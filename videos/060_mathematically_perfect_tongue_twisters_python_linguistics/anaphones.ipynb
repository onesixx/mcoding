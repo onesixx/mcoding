{
 "cells": [
  {
   "cell_type": "markdown",
   "metadata": {
    "slideshow": {
     "slide_type": "slide"
    }
   },
   "source": [
    "\n",
    "# presta petrus protests separate oppressed parrots\n",
    "\n",
    "# accursed caster scatter stacker tasker taxer\n",
    "\n",
    "# sparc crops sprock scarp parks"
   ]
  },
  {
   "cell_type": "markdown",
   "metadata": {
    "slideshow": {
     "slide_type": "notes"
    }
   },
   "source": [
    "there's something to these limericks\n",
    "they are tongue twisters, no doubt, but not all tongue twisters are so special"
   ]
  },
  {
   "cell_type": "markdown",
   "metadata": {
    "slideshow": {
     "slide_type": "slide"
    }
   },
   "source": [
    "# unmade monday"
   ]
  },
  {
   "cell_type": "markdown",
   "metadata": {
    "slideshow": {
     "slide_type": "slide"
    }
   },
   "source": [
    "\n",
    "# WORDS"
   ]
  },
  {
   "cell_type": "markdown",
   "metadata": {
    "slideshow": {
     "slide_type": "notes"
    }
   },
   "source": [
    "hello and welcome, on what may be for you an unmade monday.\n",
    "today we're talking about words.\n",
    "hi, i'm james murphy.\n",
    "don't worry, you don't need to be Enrico Fermi to understand, having a femur should be enough"
   ]
  },
  {
   "cell_type": "markdown",
   "metadata": {
    "slideshow": {
     "slide_type": "slide"
    }
   },
   "source": [
    "# Properties of Words\n",
    "\n",
    "# 1. Meaning\n",
    "\n",
    "# 2. Spelling\n",
    "\n",
    "# 3. Pronunciation"
   ]
  },
  {
   "cell_type": "markdown",
   "metadata": {
    "slideshow": {
     "slide_type": "notes"
    }
   },
   "source": [
    "language rich\n",
    "what happens if words share properties"
   ]
  },
  {
   "cell_type": "markdown",
   "metadata": {
    "slideshow": {
     "slide_type": "slide"
    }
   },
   "source": [
    "# Same Meaning: Synonyms\n",
    "\n",
    "- begin, start, commence, initiate\n",
    "\n",
    "# Same Spelling: Homographs\n",
    "\n",
    "- tear (paper), tear (crying), or row (a boat), row (of chairs)\n",
    "\n",
    "# Same Pronunciation: Homophones\n",
    "\n",
    "- there, their, they're"
   ]
  },
  {
   "cell_type": "markdown",
   "metadata": {
    "slideshow": {
     "slide_type": "notes"
    }
   },
   "source": [
    "to understand what's so special about "
   ]
  }
 ],
 "metadata": {
  "celltoolbar": "Slideshow",
  "kernelspec": {
   "display_name": "Python 3",
   "language": "python",
   "name": "python3"
  },
  "language_info": {
   "codemirror_mode": {
    "name": "ipython",
    "version": 3
   },
   "file_extension": ".py",
   "mimetype": "text/x-python",
   "name": "python",
   "nbconvert_exporter": "python",
   "pygments_lexer": "ipython3",
   "version": "3.9.0"
  }
 },
 "nbformat": 4,
 "nbformat_minor": 4
}
